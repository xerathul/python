{
  "nbformat": 4,
  "nbformat_minor": 0,
  "metadata": {
    "colab": {
      "name": "tf28cnn_mnist_seqential.ipynb",
      "provenance": [],
      "collapsed_sections": [],
      "mount_file_id": "1mmIn1DK_UFgEwt78TxchmdK1KlcRWvAS",
      "authorship_tag": "ABX9TyNVWcH4k7Pd+AnQYRhC/lqX",
      "include_colab_link": true
    },
    "kernelspec": {
      "name": "python3",
      "display_name": "Python 3"
    },
    "language_info": {
      "name": "python"
    },
    "accelerator": "GPU"
  },
  "cells": [
    {
      "cell_type": "markdown",
      "metadata": {
        "id": "view-in-github",
        "colab_type": "text"
      },
      "source": [
        "<a href=\"https://colab.research.google.com/github/xerathul/python/blob/master/tf28cnn_mnist_seqential.ipynb\" target=\"_parent\"><img src=\"https://colab.research.google.com/assets/colab-badge.svg\" alt=\"Open In Colab\"/></a>"
      ]
    },
    {
      "cell_type": "code",
      "execution_count": 1,
      "metadata": {
        "colab": {
          "base_uri": "https://localhost:8080/"
        },
        "id": "1-9vGmJKkRSK",
        "outputId": "a6c7f868-0534-4675-f7ec-1d31fe182ebd"
      },
      "outputs": [
        {
          "output_type": "stream",
          "name": "stdout",
          "text": [
            "Downloading data from https://storage.googleapis.com/tensorflow/tf-keras-datasets/mnist.npz\n",
            "11493376/11490434 [==============================] - 0s 0us/step\n",
            "11501568/11490434 [==============================] - 0s 0us/step\n",
            "(60000, 28, 28) (60000,) (10000, 28, 28) (10000,)\n"
          ]
        }
      ],
      "source": [
        "# CNN : 이미지의 특징을 뽑아 크기를 줄인 후 마지막에 1차원 배열로 만든 후 Dense에게 전달하는 방식\n",
        "# MNIST dataset을 사용\n",
        "# Sequential api 방법\n",
        "\n",
        "import tensorflow as tf\n",
        "from keras import datasets, layers, models\n",
        "\n",
        "(x_train, y_train), (x_test, y_test) = datasets.mnist.load_data()\n",
        "print(x_train.shape, y_train.shape, x_test.shape, y_test.shape)   #(60000, 28, 28) (60000,) (10000, 28, 28) (10000,)\n"
      ]
    },
    {
      "cell_type": "code",
      "source": [
        "# CNN은 Channel을 사용하기 때문에 3차원 데이터를 4차원으로 변경해 준다.\n",
        "x_train = x_train.reshape((60000, 28, 28, 1)) \n",
        "x_test = x_test.reshape((10000, 28, 28, 1))\n",
        "print(x_train.ndim, x_test.ndim)  #4 4\n",
        "# print(x_train[:1])\n",
        "\n",
        "#정규화\n",
        "x_train = x_train / 255.0\n",
        "x_test = x_test / 255.0\n",
        "# print(x_train[:1])\n",
        "# print(x_train[[[0]]])\n",
        "print(y_train[[0]])\n",
        "\n"
      ],
      "metadata": {
        "colab": {
          "base_uri": "https://localhost:8080/"
        },
        "id": "kx5p0BK0luE-",
        "outputId": "24d7ac76-157e-45da-8761-15f52e833bae"
      },
      "execution_count": 2,
      "outputs": [
        {
          "output_type": "stream",
          "name": "stdout",
          "text": [
            "4 4\n",
            "[5]\n"
          ]
        }
      ]
    },
    {
      "cell_type": "code",
      "source": [
        "# model : Sequential api 설계\n",
        "input_shape = (28, 28, 1)\n",
        "\n",
        "model = models.Sequential()\n",
        "\n",
        "#padding='same' 원본이미지 밖에 0 으로 채우기 kernel_size=(3,3)> 돋보기 눈금, strides=(1,1) > 1칸씩 이동\n",
        "model.add(layers.Conv2D(filters=16, kernel_size=(3,3), strides=(1,1), padding='valid',\n",
        "                        activation='relu', input_shape= input_shape))\n",
        "model.add(layers.MaxPool2D(pool_size=(2,2)))  # Conv 레이어에서 출력된 이미지를 축소하는 기능\n",
        "model.add(layers.Dropout(0.2))  #20%는 작업에 참여 x (과적합 방지)\n",
        "\n",
        "model.add(layers.Conv2D(filters=32, kernel_size=(3,3), strides=(1,1), padding='valid', activation='relu'))\n",
        "model.add(layers.MaxPool2D(pool_size=(2,2)))  # Conv 레이어에서 출력된 이미지를 축소하는 기능\n",
        "model.add(layers.Dropout(0.2))  #20%는 작업에 참여 x (과적합 방지)\n",
        "\n",
        "model.add(layers.Conv2D(filters=64, kernel_size=(3,3), strides=(1,1), padding='valid', activation='relu'))\n",
        "model.add(layers.MaxPool2D(pool_size=(2,2)))  # Conv 레이어에서 출력된 이미지를 축소하는 기능\n",
        "model.add(layers.Dropout(0.2))  #20%는 작업에 참여 x (과적합 방지)\n",
        "\n",
        "# Dense주기전 1열로 줄세우기\n",
        "model.add(layers.Flatten())   #FCLayer(Fully Connected Layer) 이미지 1차원으로 변경\n",
        "\n",
        "# 분류기(Dense)로 전달\n",
        "model.add(layers.Dense(64, activation='relu'))\n",
        "model.add(layers.Dropout(0.2))\n",
        "\n",
        "model.add(layers.Dense(32, activation='relu'))\n",
        "model.add(layers.Dropout(0.2))\n",
        "\n",
        "model.add(layers.Dense(units=10, activation='softmax'))\n",
        "\n",
        "print(model.summary())"
      ],
      "metadata": {
        "colab": {
          "base_uri": "https://localhost:8080/"
        },
        "id": "AuzBc7fxmyFo",
        "outputId": "195bac03-ab25-4ce1-a151-d4a2bd552a6c"
      },
      "execution_count": 3,
      "outputs": [
        {
          "output_type": "stream",
          "name": "stdout",
          "text": [
            "Model: \"sequential\"\n",
            "_________________________________________________________________\n",
            " Layer (type)                Output Shape              Param #   \n",
            "=================================================================\n",
            " conv2d (Conv2D)             (None, 26, 26, 16)        160       \n",
            "                                                                 \n",
            " max_pooling2d (MaxPooling2D  (None, 13, 13, 16)       0         \n",
            " )                                                               \n",
            "                                                                 \n",
            " dropout (Dropout)           (None, 13, 13, 16)        0         \n",
            "                                                                 \n",
            " conv2d_1 (Conv2D)           (None, 11, 11, 32)        4640      \n",
            "                                                                 \n",
            " max_pooling2d_1 (MaxPooling  (None, 5, 5, 32)         0         \n",
            " 2D)                                                             \n",
            "                                                                 \n",
            " dropout_1 (Dropout)         (None, 5, 5, 32)          0         \n",
            "                                                                 \n",
            " conv2d_2 (Conv2D)           (None, 3, 3, 64)          18496     \n",
            "                                                                 \n",
            " max_pooling2d_2 (MaxPooling  (None, 1, 1, 64)         0         \n",
            " 2D)                                                             \n",
            "                                                                 \n",
            " dropout_2 (Dropout)         (None, 1, 1, 64)          0         \n",
            "                                                                 \n",
            " flatten (Flatten)           (None, 64)                0         \n",
            "                                                                 \n",
            " dense (Dense)               (None, 64)                4160      \n",
            "                                                                 \n",
            " dropout_3 (Dropout)         (None, 64)                0         \n",
            "                                                                 \n",
            " dense_1 (Dense)             (None, 32)                2080      \n",
            "                                                                 \n",
            " dropout_4 (Dropout)         (None, 32)                0         \n",
            "                                                                 \n",
            " dense_2 (Dense)             (None, 10)                330       \n",
            "                                                                 \n",
            "=================================================================\n",
            "Total params: 29,866\n",
            "Trainable params: 29,866\n",
            "Non-trainable params: 0\n",
            "_________________________________________________________________\n",
            "None\n"
          ]
        }
      ]
    },
    {
      "cell_type": "code",
      "source": [
        "from keras.callbacks import EarlyStopping\n",
        "model.compile(optimizer='adam', loss='sparse_categorical_crossentropy', metrics=['acc'])\n",
        "es = EarlyStopping(patience=10)\n",
        "history = model.fit(x_train, y_train, batch_size=128, epochs=1000, verbose=2, validation_split=0.2,\n",
        "                    callbacks=[es])\n",
        "# model 학습 후 모델 저장 근데 history 값도 계속 참조하고 싶은 경우 pickle로 저장\n",
        "import pickle\n",
        "history = history.history\n",
        "with open('his_data.pickle','wb') as f:\n",
        "  pickle.dump(history, f)\n",
        "\n",
        "print(history)"
      ],
      "metadata": {
        "id": "evUCcxgUwdAb"
      },
      "execution_count": null,
      "outputs": []
    },
    {
      "cell_type": "code",
      "source": [
        "# 모델 평가(train/ test)\n",
        "\n",
        "train_loss, train_acc = model.evaluate(x_train, y_train)\n",
        "test_loss, test_acc = model.evaluate(x_test, y_test)\n",
        "print('train_loss, train_acc:',train_loss, train_acc)\n",
        "print('test_loss, test_acc :',test_loss, test_acc )\n",
        "\n",
        "# model save\n",
        "model.save('tf28.h5')"
      ],
      "metadata": {
        "colab": {
          "base_uri": "https://localhost:8080/"
        },
        "id": "0Nmun5H9o8EO",
        "outputId": "50e5a2fe-1969-458f-c199-87beaacb4992"
      },
      "execution_count": 7,
      "outputs": [
        {
          "output_type": "stream",
          "name": "stdout",
          "text": [
            "1875/1875 [==============================] - 5s 3ms/step - loss: 0.0190 - acc: 0.9947\n",
            "313/313 [==============================] - 1s 3ms/step - loss: 0.0410 - acc: 0.9889\n",
            "train_loss, train_acc: 0.018956860527396202 0.9946833252906799\n",
            "test_loss, test_acc : 0.0410364605486393 0.9889000058174133\n"
          ]
        }
      ]
    },
    {
      "cell_type": "code",
      "source": [
        "model2 = tf.keras.models.load_model('tf28.h5')\n",
        "\n",
        "#predict\n",
        "import numpy as np\n",
        "print('pred:', np.argmax(model2.predict(x_test[:1])))\n",
        "print('real:', y_test[0])\n"
      ],
      "metadata": {
        "colab": {
          "base_uri": "https://localhost:8080/"
        },
        "id": "qRXqmipyz999",
        "outputId": "adb25119-1d47-42ac-b512-6ae191d4eb68"
      },
      "execution_count": 8,
      "outputs": [
        {
          "output_type": "stream",
          "name": "stdout",
          "text": [
            "pred: 7\n",
            "real: 7\n"
          ]
        }
      ]
    },
    {
      "cell_type": "code",
      "source": [
        "# 시각화\n",
        "import matplotlib.pyplot as plt\n",
        "with open('his_data.pickle','rb') as f:\n",
        "  history = pickle.load(f)\n",
        "\n",
        "def plot_acc():\n",
        "  plt.plot(history['acc'], label='acc')\n",
        "  plt.plot(history['val_acc'], label='val_acc')\n",
        "  plt.xlabel('epochs')\n",
        "  plt.ylabel('acc')\n",
        "  plt.legend()\n",
        "\n",
        "def plot_loss():\n",
        "  plt.plot(history['loss'], label='loss')\n",
        "  plt.plot(history['val_loss'], label='val_loss')\n",
        "  plt.xlabel('epochs')\n",
        "  plt.ylabel('loss')\n",
        "  plt.legend()\n",
        "\n",
        "plot_acc()\n",
        "plt.show()\n",
        "plot_loss()\n",
        "plt.show()"
      ],
      "metadata": {
        "colab": {
          "base_uri": "https://localhost:8080/",
          "height": 543
        },
        "id": "r8j8TJZA03ty",
        "outputId": "c5888a30-c006-44f4-f694-e4c4cd7c0c21"
      },
      "execution_count": 13,
      "outputs": [
        {
          "output_type": "display_data",
          "data": {
            "text/plain": [
              "<Figure size 432x288 with 1 Axes>"
            ],
            "image/png": "[encoded data removed]"
          },
          "metadata": {
            "needs_background": "light"
          }
        },
        {
          "output_type": "display_data",
          "data": {
            "text/plain": [
              "<Figure size 432x288 with 1 Axes>"
            ],
            "image/png": "[encoded data removed]"
          },
          "metadata": {
            "needs_background": "light"
          }
        }
      ]
    }
  ]
}